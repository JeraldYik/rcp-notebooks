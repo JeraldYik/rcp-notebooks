{
  "nbformat": 4,
  "nbformat_minor": 0,
  "metadata": {
    "colab": {
      "name": "Final FL Model",
      "provenance": [],
      "collapsed_sections": [],
      "toc_visible": true,
      "machine_shape": "hm",
      "include_colab_link": true
    },
    "kernelspec": {
      "display_name": "Python 3",
      "name": "python3"
    },
    "accelerator": "GPU"
  },
  "cells": [
    {
      "cell_type": "markdown",
      "metadata": {
        "id": "view-in-github",
        "colab_type": "text"
      },
      "source": [
        "<a href=\"https://colab.research.google.com/github/JeraldYik/rcp-notebooks/blob/main/Final_FL_Model.ipynb\" target=\"_parent\"><img src=\"https://colab.research.google.com/assets/colab-badge.svg\" alt=\"Open In Colab\"/></a>"
      ]
    },
    {
      "cell_type": "code",
      "metadata": {
        "colab": {
          "base_uri": "https://localhost:8080/"
        },
        "id": "dGcREJSRtKEM",
        "outputId": "20a5c1ba-b88a-482e-c8de-20399045e6a3"
      },
      "source": [
        "!pip list -v | grep tensorflow"
      ],
      "execution_count": 1,
      "outputs": [
        {
          "output_type": "stream",
          "text": [
            "tensorflow                    1.15.2         /usr/local/lib/python3.7/dist-packages pip      \n",
            "tensorflow-datasets           4.0.1          /usr/local/lib/python3.7/dist-packages pip      \n",
            "tensorflow-estimator          2.4.0          /usr/local/lib/python3.7/dist-packages pip      \n",
            "tensorflow-gcs-config         2.4.0          /usr/local/lib/python3.7/dist-packages pip      \n",
            "tensorflow-hub                0.11.0         /usr/local/lib/python3.7/dist-packages pip      \n",
            "tensorflow-metadata           0.29.0         /usr/local/lib/python3.7/dist-packages pip      \n",
            "tensorflow-privacy            0.5.2          /usr/local/lib/python3.7/dist-packages pip      \n",
            "tensorflow-probability        0.12.1         /usr/local/lib/python3.7/dist-packages pip      \n"
          ],
          "name": "stdout"
        }
      ]
    },
    {
      "cell_type": "code",
      "metadata": {
        "colab": {
          "base_uri": "https://localhost:8080/"
        },
        "id": "KfdnYFqDs5t7",
        "outputId": "8f377b4e-267a-403e-efe6-0a0b40e1b840"
      },
      "source": [
        "!pip install tensorflow==1.15.2\n",
        "!pip install tensorflow_privacy"
      ],
      "execution_count": 2,
      "outputs": [
        {
          "output_type": "stream",
          "text": [
            "Requirement already satisfied: tensorflow==1.15.2 in /usr/local/lib/python3.7/dist-packages (1.15.2)\n",
            "Requirement already satisfied: wrapt>=1.11.1 in /usr/local/lib/python3.7/dist-packages (from tensorflow==1.15.2) (1.12.1)\n",
            "Requirement already satisfied: termcolor>=1.1.0 in /usr/local/lib/python3.7/dist-packages (from tensorflow==1.15.2) (1.1.0)\n",
            "Requirement already satisfied: keras-preprocessing>=1.0.5 in /usr/local/lib/python3.7/dist-packages (from tensorflow==1.15.2) (1.1.2)\n",
            "Requirement already satisfied: numpy<2.0,>=1.16.0 in /usr/local/lib/python3.7/dist-packages (from tensorflow==1.15.2) (1.19.5)\n",
            "Requirement already satisfied: protobuf>=3.6.1 in /usr/local/lib/python3.7/dist-packages (from tensorflow==1.15.2) (3.12.4)\n",
            "Collecting tensorflow-estimator==1.15.1\n",
            "  Using cached https://files.pythonhosted.org/packages/de/62/2ee9cd74c9fa2fa450877847ba560b260f5d0fb70ee0595203082dafcc9d/tensorflow_estimator-1.15.1-py2.py3-none-any.whl\n",
            "Requirement already satisfied: google-pasta>=0.1.6 in /usr/local/lib/python3.7/dist-packages (from tensorflow==1.15.2) (0.2.0)\n",
            "Requirement already satisfied: astor>=0.6.0 in /usr/local/lib/python3.7/dist-packages (from tensorflow==1.15.2) (0.8.1)\n",
            "Requirement already satisfied: wheel>=0.26; python_version >= \"3\" in /usr/local/lib/python3.7/dist-packages (from tensorflow==1.15.2) (0.36.2)\n",
            "Requirement already satisfied: grpcio>=1.8.6 in /usr/local/lib/python3.7/dist-packages (from tensorflow==1.15.2) (1.32.0)\n",
            "Requirement already satisfied: six>=1.10.0 in /usr/local/lib/python3.7/dist-packages (from tensorflow==1.15.2) (1.15.0)\n",
            "Requirement already satisfied: opt-einsum>=2.3.2 in /usr/local/lib/python3.7/dist-packages (from tensorflow==1.15.2) (3.3.0)\n",
            "Requirement already satisfied: tensorboard<1.16.0,>=1.15.0 in /usr/local/lib/python3.7/dist-packages (from tensorflow==1.15.2) (1.15.0)\n",
            "Requirement already satisfied: gast==0.2.2 in /usr/local/lib/python3.7/dist-packages (from tensorflow==1.15.2) (0.2.2)\n",
            "Requirement already satisfied: keras-applications>=1.0.8 in /usr/local/lib/python3.7/dist-packages (from tensorflow==1.15.2) (1.0.8)\n",
            "Requirement already satisfied: absl-py>=0.7.0 in /usr/local/lib/python3.7/dist-packages (from tensorflow==1.15.2) (0.12.0)\n",
            "Requirement already satisfied: setuptools in /usr/local/lib/python3.7/dist-packages (from protobuf>=3.6.1->tensorflow==1.15.2) (54.2.0)\n",
            "Requirement already satisfied: werkzeug>=0.11.15 in /usr/local/lib/python3.7/dist-packages (from tensorboard<1.16.0,>=1.15.0->tensorflow==1.15.2) (1.0.1)\n",
            "Requirement already satisfied: markdown>=2.6.8 in /usr/local/lib/python3.7/dist-packages (from tensorboard<1.16.0,>=1.15.0->tensorflow==1.15.2) (3.3.4)\n",
            "Requirement already satisfied: h5py in /usr/local/lib/python3.7/dist-packages (from keras-applications>=1.0.8->tensorflow==1.15.2) (2.10.0)\n",
            "Requirement already satisfied: importlib-metadata; python_version < \"3.8\" in /usr/local/lib/python3.7/dist-packages (from markdown>=2.6.8->tensorboard<1.16.0,>=1.15.0->tensorflow==1.15.2) (3.10.0)\n",
            "Requirement already satisfied: typing-extensions>=3.6.4; python_version < \"3.8\" in /usr/local/lib/python3.7/dist-packages (from importlib-metadata; python_version < \"3.8\"->markdown>=2.6.8->tensorboard<1.16.0,>=1.15.0->tensorflow==1.15.2) (3.7.4.3)\n",
            "Requirement already satisfied: zipp>=0.5 in /usr/local/lib/python3.7/dist-packages (from importlib-metadata; python_version < \"3.8\"->markdown>=2.6.8->tensorboard<1.16.0,>=1.15.0->tensorflow==1.15.2) (3.4.1)\n",
            "\u001b[31mERROR: tensorflow-privacy 0.5.2 has requirement tensorflow-estimator>=2.3.0, but you'll have tensorflow-estimator 1.15.1 which is incompatible.\u001b[0m\n",
            "Installing collected packages: tensorflow-estimator\n",
            "  Found existing installation: tensorflow-estimator 2.4.0\n",
            "    Uninstalling tensorflow-estimator-2.4.0:\n",
            "      Successfully uninstalled tensorflow-estimator-2.4.0\n",
            "Successfully installed tensorflow-estimator-1.15.1\n",
            "Requirement already satisfied: tensorflow_privacy in /usr/local/lib/python3.7/dist-packages (0.5.2)\n",
            "Requirement already satisfied: mpmath in /usr/local/lib/python3.7/dist-packages (from tensorflow_privacy) (1.2.1)\n",
            "Requirement already satisfied: dm-tree~=0.1.1 in /usr/local/lib/python3.7/dist-packages (from tensorflow_privacy) (0.1.5)\n",
            "Requirement already satisfied: scipy>=0.17 in /usr/local/lib/python3.7/dist-packages (from tensorflow_privacy) (1.4.1)\n",
            "Collecting tensorflow-estimator>=2.3.0\n",
            "  Using cached https://files.pythonhosted.org/packages/74/7e/622d9849abf3afb81e482ffc170758742e392ee129ce1540611199a59237/tensorflow_estimator-2.4.0-py2.py3-none-any.whl\n",
            "Requirement already satisfied: six>=1.12.0 in /usr/local/lib/python3.7/dist-packages (from dm-tree~=0.1.1->tensorflow_privacy) (1.15.0)\n",
            "Requirement already satisfied: numpy>=1.13.3 in /usr/local/lib/python3.7/dist-packages (from scipy>=0.17->tensorflow_privacy) (1.19.5)\n",
            "\u001b[31mERROR: tensorflow 1.15.2 has requirement tensorflow-estimator==1.15.1, but you'll have tensorflow-estimator 2.4.0 which is incompatible.\u001b[0m\n",
            "Installing collected packages: tensorflow-estimator\n",
            "  Found existing installation: tensorflow-estimator 1.15.1\n",
            "    Uninstalling tensorflow-estimator-1.15.1:\n",
            "      Successfully uninstalled tensorflow-estimator-1.15.1\n",
            "Successfully installed tensorflow-estimator-2.4.0\n"
          ],
          "name": "stdout"
        }
      ]
    },
    {
      "cell_type": "code",
      "metadata": {
        "id": "XzWZ_Gwrmg94",
        "colab": {
          "base_uri": "https://localhost:8080/"
        },
        "outputId": "90a7efa0-edd2-4d6b-deb9-a2d0e6610789"
      },
      "source": [
        "import tensorflow as tf\n",
        "import numpy as np\n",
        "\n",
        "try:\n",
        "  # %tensorflow_version only exists in Colab.\n",
        "  %tensorflow_version 1.x\n",
        "except Exception:\n",
        "  pass"
      ],
      "execution_count": 3,
      "outputs": [
        {
          "output_type": "stream",
          "text": [
            "TensorFlow is already loaded. Please restart the runtime to change versions.\n"
          ],
          "name": "stdout"
        }
      ]
    },
    {
      "cell_type": "code",
      "metadata": {
        "id": "vwQbasPAm5AP"
      },
      "source": [
        "class Cloud:\n",
        "\n",
        "  def __init__(self, num_clients):\n",
        "    self.EPOCHS = 10\n",
        "    self.BATCH_SIZE = 125\n",
        "    self.LEARNING_RATE = 0.1\n",
        "    self.L2_NORM_CLIP = 1.0\n",
        "    self.num_clients = num_clients\n",
        "    self.model = None\n",
        "    self.loss = tf.keras.losses.CategoricalCrossentropy(\n",
        "        from_logits=True, reduction=tf.losses.Reduction.NONE)\n",
        "  \n",
        "  def generate_data(self):\n",
        "    train, test = tf.keras.datasets.mnist.load_data()\n",
        "    train_data, train_labels = train\n",
        "    test_data, test_labels = test\n",
        "\n",
        "    train_len = len(train_data)//2\n",
        "    test_len = len(test_data)//2\n",
        "\n",
        "    ''' Half the data '''\n",
        "    train_data = train_data[:train_len]\n",
        "    test_data = test_data[:test_len]\n",
        "    train_labels = train_labels[:train_len]\n",
        "    test_labels = test_labels[:test_len]\n",
        "\n",
        "    train_data = np.array(train_data, dtype=np.float32) / 255\n",
        "    test_data = np.array(test_data, dtype=np.float32) / 255\n",
        "\n",
        "    train_data = train_data.reshape(train_data.shape[0], 28, 28, 1)\n",
        "    test_data = test_data.reshape(test_data.shape[0], 28, 28, 1)\n",
        "\n",
        "    train_labels = np.array(train_labels, dtype=np.int32)\n",
        "    test_labels = np.array(test_labels, dtype=np.int32)\n",
        "\n",
        "    train_labels = tf.keras.utils.to_categorical(train_labels, num_classes=10)\n",
        "    test_labels = tf.keras.utils.to_categorical(test_labels, num_classes=10)\n",
        "\n",
        "    assert train_data.min() == 0.\n",
        "    assert train_data.max() == 1.\n",
        "    assert test_data.min() == 0.\n",
        "    assert test_data.max() == 1.\n",
        "\n",
        "    ''' splitting data and labels into array with length=num_clients '''\n",
        "    train_data_arr = [None for _ in range(self.num_clients)]\n",
        "    test_data_arr = [None for _ in range(self.num_clients)]\n",
        "    train_labels_arr = [None for _ in range(self.num_clients)]\n",
        "    test_labels_arr = [None for _ in range(self.num_clients)]\n",
        "\n",
        "    for i in range(self.num_clients):\n",
        "      train_data_arr[i] = train_data[(len(train_data)//self.num_clients)*i:(len(train_data)//self.num_clients)*(i+1)]\n",
        "      test_data_arr[i] = test_data[(len(test_data)//self.num_clients)*i:(len(test_data)//self.num_clients)*(i+1)]\n",
        "      train_labels_arr[i] = train_labels[(len(train_labels)//self.num_clients)*i:(len(train_labels)//self.num_clients)*(i+1)]\n",
        "      test_labels_arr[i] = test_labels[(len(test_labels)//self.num_clients)*i:(len(test_labels)//self.num_clients)*(i+1)]\n",
        "\n",
        "    print(len(train_data), len(test_data), len(train_labels), len(test_labels))\n",
        "    print(len(train_data_arr), len(test_data_arr), len(train_labels_arr), len(test_labels_arr))\n",
        "    print(len(train_data_arr[0]), len(test_data_arr[0]), len(train_labels_arr[0]), len(test_labels_arr[0]))\n",
        "    \n",
        "    return train_data_arr, test_data_arr, train_labels_arr, test_labels_arr\n",
        "\n",
        "\n",
        "  def generate_model(self):\n",
        "    model = tf.keras.Sequential([\n",
        "        tf.keras.layers.Conv2D(16, 8,\n",
        "                              strides=2,\n",
        "                              padding='same',\n",
        "                              activation='relu',\n",
        "                              input_shape=(28, 28, 1)),\n",
        "        tf.keras.layers.MaxPool2D(2, 1),\n",
        "        tf.keras.layers.Conv2D(32, 4,\n",
        "                              strides=2,\n",
        "                              padding='valid',\n",
        "                              activation='relu'),\n",
        "        tf.keras.layers.MaxPool2D(2, 1),\n",
        "        tf.keras.layers.Flatten(),\n",
        "        tf.keras.layers.Dense(32, activation='relu'),\n",
        "        tf.keras.layers.Dense(10, activation='softmax')\n",
        "    ])\n",
        "\n",
        "    # model.compile(optimizer='sgd', loss=loss, metrics=['accuracy'])\n",
        "\n",
        "    self.model = model\n",
        "\n",
        "  def send_model(self):\n",
        "    cloned_model = tf.keras.models.clone_model(self.model)\n",
        "    cloned_model.compile(optimizer='sgd', loss=self.loss, metrics=['accuracy'])\n",
        "    return cloned_model\n",
        "\n",
        "  ''' receive new weights from aggregator and set to model '''\n",
        "  def receive_and_save_weights(self, weights):\n",
        "    # print('-- Saving weights... --')\n",
        "    self.model.set_weights(weights)"
      ],
      "execution_count": 4,
      "outputs": []
    },
    {
      "cell_type": "code",
      "metadata": {
        "id": "7f3vVMJcqTwk"
      },
      "source": [
        "class Client:\n",
        "\n",
        "  def __init__(self, idx):\n",
        "    self.idx = idx\n",
        "    self.model = None\n",
        "    self.train_data = None\n",
        "    self.test_data = None\n",
        "    self.train_labels = None\n",
        "    self.test_labels = None\n",
        "  \n",
        "  def download_model(self,model):\n",
        "    self.model = model\n",
        "\n",
        "  def download_data_and_labels(self,train_data_arr, test_data_arr, train_labels_arr, test_labels_arr):\n",
        "    self.train_data = train_data_arr[self.idx]\n",
        "    self.test_data = test_data_arr[self.idx]\n",
        "    self.train_labels = train_labels_arr[self.idx]\n",
        "    self.test_labels = test_labels_arr[self.idx]\n",
        "    # print(len(self.train_data), len(self.test_data), len(self.train_labels), len(self.test_labels))\n",
        "\n",
        "  ''' fit the model with training data '''\n",
        "  def train(self, epochs, batch_size):\n",
        "    self.model.fit(self.train_data, self.train_labels, validation_data=(self.test_data, self.test_labels), epochs=epochs, batch_size = batch_size, verbose=0)\n",
        "    # self.model.fit(self.train_data, self.train_labels, validation_data=(self.test_data, self.test_labels), epochs=epochs, batch_size = batch_size)\n",
        "\n",
        "  def get_weights_from_model(self):\n",
        "    return self.model.get_weights()"
      ],
      "execution_count": 5,
      "outputs": []
    },
    {
      "cell_type": "code",
      "metadata": {
        "id": "BVMZn776sHxe"
      },
      "source": [
        "class Aggregator:\n",
        "  def __init__(self, num_clients):\n",
        "    self.weights_from_clients = [None for _ in range(num_clients)]\n",
        "    self.num_clients = num_clients\n",
        "  \n",
        "  def get_weights_from_clients(self, client_idx, weights):\n",
        "    # print('-- Received weights from Client {} --'.format(client_idx))\n",
        "    self.weights_from_clients[client_idx] = weights\n",
        "\n",
        "  def aggregate_weights(self):\n",
        "    # print('--- Aggregating weights... ---')\n",
        "\n",
        "    ''' Populate return list with empty numpy arrays of appropriate size '''\n",
        "    new_weights = []\n",
        "    for layer in self.weights_from_clients[0]:\n",
        "      new_weights.append(np.zeros(shape=layer.shape))\n",
        "    \n",
        "    ''' Add value of weights from all clients at each layer '''\n",
        "    for client_weights in self.weights_from_clients:\n",
        "      for i, w in enumerate(client_weights):\n",
        "        new_weights[i] += w\n",
        "\n",
        "    ''' Find average value of weights at each layer '''\n",
        "    for layer in new_weights:\n",
        "      layer /= self.num_clients\n",
        "\n",
        "    return new_weights\n",
        "\n",
        "  def send_weights_to_cloud(self, cloud):\n",
        "    aggregated_weights = self.aggregate_weights()\n",
        "    cloud.receive_and_save_weights(aggregated_weights)"
      ],
      "execution_count": 6,
      "outputs": []
    },
    {
      "cell_type": "code",
      "metadata": {
        "colab": {
          "base_uri": "https://localhost:8080/"
        },
        "id": "JkDyxhzisLyg",
        "outputId": "70a3c03f-61d0-4732-ba2b-8b986f071722"
      },
      "source": [
        "print('--- Preparing Cloud ---') \n",
        "NUM_CLIENTS = 2 \n",
        "cloud = Cloud(num_clients=NUM_CLIENTS) \n",
        "train_data_arr, test_data_arr, train_labels_arr, test_labels_arr = cloud.generate_data() "
      ],
      "execution_count": 7,
      "outputs": [
        {
          "output_type": "stream",
          "text": [
            "--- Preparing Cloud ---\n",
            "30000 5000 30000 5000\n",
            "2 2 2 2\n",
            "15000 2500 15000 2500\n"
          ],
          "name": "stdout"
        }
      ]
    },
    {
      "cell_type": "code",
      "metadata": {
        "colab": {
          "base_uri": "https://localhost:8080/",
          "height": 1000
        },
        "id": "wDVQqjkBsSQY",
        "outputId": "13a8b653-9e76-4082-aa77-0d71bf836cb9"
      },
      "source": [
        "for i in range(20): \n",
        "  print('--- Round {} ---'.format(i+1))\n",
        "  cloud.generate_model() \n",
        "  clients = [None for _ in range(cloud.num_clients)]\n",
        "\n",
        "  # print('--- Preparing Aggregator ---') \n",
        "  aggregator = Aggregator(cloud.num_clients)\n",
        "\n",
        "  ''' Populate clients array and save static data into clients ''' \n",
        "  for j in range(len(clients)): \n",
        "    clients[j] = Client(j) \n",
        "    clients[j].download_data_and_labels(train_data_arr, test_data_arr, train_labels_arr, test_labels_arr) \n",
        "\n",
        "  NUM_GENERATION = 3\n",
        "\n",
        "  val_acc_epoch_start = []\n",
        "  val_acc_epoch_end = []\n",
        "\n",
        "  for j in range(NUM_GENERATION): \n",
        "    for client in clients:\n",
        "      print('\\n---- Generation {}. For Client {} ----'.format(j+1,client.idx))\n",
        "      client.download_model(cloud.send_model())\n",
        "  \n",
        "      client.train(epochs=cloud.EPOCHS, batch_size=cloud.BATCH_SIZE)\n",
        "\n",
        "      val_acc_epoch_start.append(client.model.history.history['val_acc'][0])\n",
        "      val_acc_epoch_end.append(client.model.history.history['val_acc'][cloud.EPOCHS-1])\n",
        "  \n",
        "      ''' pass trained weights to aggregator '''\n",
        "      aggregator.get_weights_from_clients(client_idx=client.idx, weights=client.get_weights_from_model())\n",
        "  \n",
        "    ''' AFTER CLIENTS ARE DONE TRAINING IN THIS GEN '''\n",
        "    ''' aggregator does his thing and sends the aggregated weights over to cloud '''\n",
        "    aggregator.send_weights_to_cloud(cloud)\n",
        "    print('Round {}: Generation {}: val_acc_epoch_s: {}'.format(i+1, j+1, sum(val_acc_epoch_start)/len(val_acc_epoch_start)))\n",
        "    print('Round {}: Generation {}: val_acc_epoc_e: {}'.format(i+1, j+1, sum(val_acc_epoch_end)/len(val_acc_epoch_end)))\n",
        "    val_acc_epoch_start = []\n",
        "    val_acc_epoch_end = []"
      ],
      "execution_count": 8,
      "outputs": [
        {
          "output_type": "stream",
          "text": [
            "--- Round 1 ---\n",
            "WARNING:tensorflow:From /usr/local/lib/python3.7/dist-packages/tensorflow_core/python/ops/resource_variable_ops.py:1630: calling BaseResourceVariable.__init__ (from tensorflow.python.ops.resource_variable_ops) with constraint is deprecated and will be removed in a future version.\n",
            "Instructions for updating:\n",
            "If using Keras pass *_constraint arguments to layers.\n",
            "\n",
            "---- Generation 1. For Client 0 ----\n",
            "WARNING:tensorflow:From /usr/local/lib/python3.7/dist-packages/tensorflow_core/python/ops/init_ops.py:97: calling GlorotUniform.__init__ (from tensorflow.python.ops.init_ops) with dtype is deprecated and will be removed in a future version.\n",
            "Instructions for updating:\n",
            "Call initializer instance with the dtype argument instead of passing it to the constructor\n",
            "WARNING:tensorflow:From /usr/local/lib/python3.7/dist-packages/tensorflow_core/python/ops/init_ops.py:97: calling Zeros.__init__ (from tensorflow.python.ops.init_ops) with dtype is deprecated and will be removed in a future version.\n",
            "Instructions for updating:\n",
            "Call initializer instance with the dtype argument instead of passing it to the constructor\n",
            "\n",
            "---- Generation 1. For Client 1 ----\n",
            "Round 1: Generation 1: val_acc_epoch_s: 0.8123999834060669\n",
            "Round 1: Generation 1: val_acc_epoc_e: 0.9368000030517578\n",
            "\n",
            "---- Generation 2. For Client 0 ----\n",
            "\n",
            "---- Generation 2. For Client 1 ----\n",
            "Round 1: Generation 2: val_acc_epoch_s: 0.7769999802112579\n",
            "Round 1: Generation 2: val_acc_epoc_e: 0.9133999943733215\n",
            "\n",
            "---- Generation 3. For Client 0 ----\n",
            "\n",
            "---- Generation 3. For Client 1 ----\n",
            "Round 1: Generation 3: val_acc_epoch_s: 0.800000011920929\n",
            "Round 1: Generation 3: val_acc_epoc_e: 0.9087999761104584\n",
            "--- Round 2 ---\n",
            "\n",
            "---- Generation 1. For Client 0 ----\n"
          ],
          "name": "stdout"
        },
        {
          "output_type": "stream",
          "text": [
            "ERROR:root:Internal Python error in the inspect module.\n",
            "Below is the traceback from this internal error.\n",
            "\n"
          ],
          "name": "stderr"
        },
        {
          "output_type": "stream",
          "text": [
            "Traceback (most recent call last):\n",
            "  File \"/usr/local/lib/python3.7/dist-packages/IPython/core/interactiveshell.py\", line 2882, in run_code\n",
            "    exec(code_obj, self.user_global_ns, self.user_ns)\n",
            "  File \"<ipython-input-8-d9ea5d97a3a3>\", line 24, in <module>\n",
            "    client.train(epochs=cloud.EPOCHS, batch_size=cloud.BATCH_SIZE)\n",
            "  File \"<ipython-input-5-77fc3f7a139f>\", line 23, in train\n",
            "    self.model.fit(self.train_data, self.train_labels, validation_data=(self.test_data, self.test_labels), epochs=epochs, batch_size = batch_size, verbose=0)\n",
            "  File \"/usr/local/lib/python3.7/dist-packages/tensorflow_core/python/keras/engine/training.py\", line 727, in fit\n",
            "    use_multiprocessing=use_multiprocessing)\n",
            "  File \"/usr/local/lib/python3.7/dist-packages/tensorflow_core/python/keras/engine/training_arrays.py\", line 675, in fit\n",
            "    steps_name='steps_per_epoch')\n",
            "  File \"/usr/local/lib/python3.7/dist-packages/tensorflow_core/python/keras/engine/training_arrays.py\", line 394, in model_iteration\n",
            "    batch_outs = f(ins_batch)\n",
            "  File \"/usr/local/lib/python3.7/dist-packages/tensorflow_core/python/keras/backend.py\", line 3476, in __call__\n",
            "    run_metadata=self.run_metadata)\n",
            "  File \"/usr/local/lib/python3.7/dist-packages/tensorflow_core/python/client/session.py\", line 1472, in __call__\n",
            "    run_metadata_ptr)\n",
            "KeyboardInterrupt\n",
            "\n",
            "During handling of the above exception, another exception occurred:\n",
            "\n",
            "Traceback (most recent call last):\n",
            "  File \"/usr/local/lib/python3.7/dist-packages/IPython/core/interactiveshell.py\", line 1823, in showtraceback\n",
            "    stb = value._render_traceback_()\n",
            "AttributeError: 'KeyboardInterrupt' object has no attribute '_render_traceback_'\n",
            "\n",
            "During handling of the above exception, another exception occurred:\n",
            "\n",
            "Traceback (most recent call last):\n",
            "  File \"/usr/local/lib/python3.7/dist-packages/IPython/core/ultratb.py\", line 1132, in get_records\n",
            "    return _fixed_getinnerframes(etb, number_of_lines_of_context, tb_offset)\n",
            "  File \"/usr/local/lib/python3.7/dist-packages/IPython/core/ultratb.py\", line 313, in wrapped\n",
            "    return f(*args, **kwargs)\n",
            "  File \"/usr/local/lib/python3.7/dist-packages/IPython/core/ultratb.py\", line 358, in _fixed_getinnerframes\n",
            "    records = fix_frame_records_filenames(inspect.getinnerframes(etb, context))\n",
            "  File \"/usr/lib/python3.7/inspect.py\", line 1502, in getinnerframes\n",
            "    frameinfo = (tb.tb_frame,) + getframeinfo(tb, context)\n",
            "  File \"/usr/lib/python3.7/inspect.py\", line 1460, in getframeinfo\n",
            "    filename = getsourcefile(frame) or getfile(frame)\n",
            "  File \"/usr/lib/python3.7/inspect.py\", line 696, in getsourcefile\n",
            "    if getattr(getmodule(object, filename), '__loader__', None) is not None:\n",
            "  File \"/usr/lib/python3.7/inspect.py\", line 733, in getmodule\n",
            "    if ismodule(module) and hasattr(module, '__file__'):\n",
            "  File \"/usr/local/lib/python3.7/dist-packages/tensorflow/__init__.py\", line 50, in __getattr__\n",
            "    module = self._load()\n",
            "  File \"/usr/local/lib/python3.7/dist-packages/tensorflow/__init__.py\", line 44, in _load\n",
            "    module = _importlib.import_module(self.__name__)\n",
            "  File \"/usr/lib/python3.7/importlib/__init__.py\", line 127, in import_module\n",
            "    return _bootstrap._gcd_import(name[level:], package, level)\n",
            "  File \"<frozen importlib._bootstrap>\", line 1006, in _gcd_import\n",
            "  File \"<frozen importlib._bootstrap>\", line 983, in _find_and_load\n",
            "  File \"<frozen importlib._bootstrap>\", line 967, in _find_and_load_unlocked\n",
            "  File \"<frozen importlib._bootstrap>\", line 677, in _load_unlocked\n",
            "  File \"<frozen importlib._bootstrap_external>\", line 728, in exec_module\n",
            "  File \"<frozen importlib._bootstrap>\", line 219, in _call_with_frames_removed\n",
            "  File \"/usr/local/lib/python3.7/dist-packages/tensorflow_core/contrib/__init__.py\", line 39, in <module>\n",
            "    from tensorflow.contrib import compiler\n",
            "  File \"/usr/local/lib/python3.7/dist-packages/tensorflow_core/contrib/compiler/__init__.py\", line 21, in <module>\n",
            "    from tensorflow.contrib.compiler import jit\n",
            "  File \"/usr/local/lib/python3.7/dist-packages/tensorflow_core/contrib/compiler/__init__.py\", line 22, in <module>\n",
            "    from tensorflow.contrib.compiler import xla\n",
            "  File \"/usr/local/lib/python3.7/dist-packages/tensorflow_core/contrib/compiler/xla.py\", line 22, in <module>\n",
            "    from tensorflow.python.estimator import model_fn as model_fn_lib\n",
            "  File \"/usr/local/lib/python3.7/dist-packages/tensorflow_core/python/estimator/model_fn.py\", line 26, in <module>\n",
            "    from tensorflow_estimator.python.estimator import model_fn\n",
            "  File \"/usr/local/lib/python3.7/dist-packages/tensorflow_estimator/python/estimator/model_fn.py\", line 29, in <module>\n",
            "    from tensorflow.python.types import core\n",
            "ModuleNotFoundError: No module named 'tensorflow.python.types'\n"
          ],
          "name": "stdout"
        },
        {
          "output_type": "error",
          "ename": "KeyboardInterrupt",
          "evalue": "ignored",
          "traceback": [
            "\u001b[0;31m---------------------------------------------------------------------------\u001b[0m"
          ]
        }
      ]
    },
    {
      "cell_type": "code",
      "metadata": {
        "id": "zyr1B4JKtTv4"
      },
      "source": [
        ""
      ],
      "execution_count": null,
      "outputs": []
    }
  ]
}